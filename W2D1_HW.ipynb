{
 "cells": [
  {
   "cell_type": "markdown",
   "metadata": {},
   "source": [
    "# Week 2 - Monday Lesson (variable assignment, loops, lists)"
   ]
  },
  {
   "cell_type": "markdown",
   "metadata": {},
   "source": [
    "## Tasks Today:\n",
    "\n",
    "1) Int & Float assignments <br>\n",
    " &nbsp;&nbsp;&nbsp;&nbsp; a) Assigning int <br>\n",
    " &nbsp;&nbsp;&nbsp;&nbsp; b) Assigning float <br>\n",
    " &nbsp;&nbsp;&nbsp;&nbsp; c) Performing Calculations on ints and floats <br>\n",
    " &nbsp;&nbsp;&nbsp;&nbsp;&nbsp;&nbsp;&nbsp;&nbsp; - Addition <br>\n",
    " &nbsp;&nbsp;&nbsp;&nbsp;&nbsp;&nbsp;&nbsp;&nbsp; - Subtraction <br>\n",
    " &nbsp;&nbsp;&nbsp;&nbsp;&nbsp;&nbsp;&nbsp;&nbsp; - Multiplication <br>\n",
    " &nbsp;&nbsp;&nbsp;&nbsp;&nbsp;&nbsp;&nbsp;&nbsp; - Division <br>\n",
    " &nbsp;&nbsp;&nbsp;&nbsp;&nbsp;&nbsp;&nbsp;&nbsp; - Floor Division <br>\n",
    " &nbsp;&nbsp;&nbsp;&nbsp;&nbsp;&nbsp;&nbsp;&nbsp; - Modulo <br>\n",
    " &nbsp;&nbsp;&nbsp;&nbsp;&nbsp;&nbsp;&nbsp;&nbsp; - Exponential <br>\n",
    "2) String Input-Output <br>\n",
    " &nbsp;&nbsp;&nbsp;&nbsp; a) String Assignment <br>\n",
    " &nbsp;&nbsp;&nbsp;&nbsp; b) print() <br>\n",
    " &nbsp;&nbsp;&nbsp;&nbsp; c) String Concatenation <br>\n",
    " &nbsp;&nbsp;&nbsp;&nbsp; d) Type Conversion <br>\n",
    " &nbsp;&nbsp;&nbsp;&nbsp; e) input() <br>\n",
    " &nbsp;&nbsp;&nbsp;&nbsp; f) format() <br>\n",
    " &nbsp;&nbsp;&nbsp;&nbsp; g) Old Way (python 2) <br>\n",
    "3) <b>In-Class Exercise #1</b> <br>\n",
    "4) If Statements <br>\n",
    " &nbsp;&nbsp;&nbsp;&nbsp; a) 'is' keyword <br>\n",
    " &nbsp;&nbsp;&nbsp;&nbsp; b) 'in' keyword <br>\n",
    " &nbsp;&nbsp;&nbsp;&nbsp; c) 'not in' keyword <br>\n",
    "5) <b>In-Class Exercise #2</b> <br>\n",
    "6) Elif Statements <br>\n",
    "7) Else Statements <br>\n",
    "8) <b>In-Class Exercise #3</b> <br>\n",
    "9) Built-In Functions <br>\n",
    "\n",
    " &nbsp;&nbsp;&nbsp;&nbsp; b) len() <br>\n",
    " &nbsp;&nbsp;&nbsp;&nbsp; c) help() <br>\n",
    " &nbsp;&nbsp;&nbsp;&nbsp; d) isinstance() <br>\n",
    " &nbsp;&nbsp;&nbsp;&nbsp; e) abs() <br>\n",
    "10) Try and Except <br>\n"
   ]
  },
  {
   "cell_type": "markdown",
   "metadata": {},
   "source": [
    "### Int & Float Assignments"
   ]
  },
  {
   "cell_type": "markdown",
   "metadata": {},
   "source": [
    "##### Assigning int"
   ]
  },
  {
   "cell_type": "code",
   "execution_count": 1,
   "metadata": {},
   "outputs": [
    {
     "name": "stdout",
     "output_type": "stream",
     "text": [
      "6\n",
      "10\n",
      "8 83\n"
     ]
    }
   ],
   "source": [
    "#variables are arbitrary names that hold some kind of value (AKA container)\n",
    "#while the names don't matter, to make your code readable they should\n",
    "#relate to whatever the value is\n",
    "\n",
    "#variable on example: number 6 is the value of that variable (also an integer type)\n",
    "#Int. Int, or integer, is a whole number, positive or negative, without decimals, of unlimited length.\n",
    "number = 6\n",
    "print(number)\n",
    "\n",
    "elephants = 10\n",
    "print(elephants)\n",
    "\n",
    "x = 8\n",
    "y = 83\n",
    "print(x, y)"
   ]
  },
  {
   "cell_type": "markdown",
   "metadata": {},
   "source": [
    "##### Assigning float"
   ]
  },
  {
   "cell_type": "code",
   "execution_count": 2,
   "metadata": {},
   "outputs": [
    {
     "name": "stdout",
     "output_type": "stream",
     "text": [
      "8.83\n",
      "123.456789\n"
     ]
    }
   ],
   "source": [
    "#floats are decimals: 1.7 3.5 and so on....\n",
    "\n",
    "my_float = 8.83\n",
    "print(my_float)\n",
    "\n",
    "big_float = 123.456789\n",
    "print(big_float)"
   ]
  },
  {
   "cell_type": "markdown",
   "metadata": {},
   "source": [
    "#### Performing Calculations on ints and floats"
   ]
  },
  {
   "cell_type": "markdown",
   "metadata": {},
   "source": [
    "##### Addition"
   ]
  },
  {
   "cell_type": "code",
   "execution_count": 3,
   "metadata": {
    "scrolled": true
   },
   "outputs": [
    {
     "name": "stdout",
     "output_type": "stream",
     "text": [
      "91\n",
      "91\n",
      "16.83\n",
      "92\n"
     ]
    }
   ],
   "source": [
    "num1 = 8\n",
    "num2 = 83\n",
    "\n",
    "print(num1 + num2)\n",
    "\n",
    "result = num1 + num2\n",
    "print(result) #result now equals 91 unless reassigned\n",
    "\n",
    "#float and int can be added together\n",
    "\n",
    "num3 = 8.83\n",
    "print(num3 + num1)\n",
    "\n",
    "result += 1\n",
    "print(result) #result will now equals 92 unless reassigned again *see example below"
   ]
  },
  {
   "cell_type": "code",
   "execution_count": 4,
   "metadata": {},
   "outputs": [
    {
     "name": "stdout",
     "output_type": "stream",
     "text": [
      "93\n"
     ]
    }
   ],
   "source": [
    "result += 1\n",
    "print(result)"
   ]
  },
  {
   "cell_type": "code",
   "execution_count": 5,
   "metadata": {},
   "outputs": [
    {
     "name": "stdout",
     "output_type": "stream",
     "text": [
      "95\n"
     ]
    }
   ],
   "source": [
    "result += 2\n",
    "print(result)"
   ]
  },
  {
   "cell_type": "markdown",
   "metadata": {},
   "source": [
    "##### Subtraction"
   ]
  },
  {
   "cell_type": "code",
   "execution_count": 11,
   "metadata": {},
   "outputs": [
    {
     "name": "stdout",
     "output_type": "stream",
     "text": [
      "3\n",
      "-3\n",
      "-5\n"
     ]
    }
   ],
   "source": [
    "num3 = 7\n",
    "num4 = 4\n",
    "\n",
    "print(num3 - num4)\n",
    "\n",
    "result2 = num4 - num3\n",
    "print(result2)\n",
    "\n",
    "result2 -= 2\n",
    "print(result2)"
   ]
  },
  {
   "cell_type": "raw",
   "metadata": {},
   "source": [
    "num3= 7\n",
    "num4=4\n",
    "print(num3 - num4)\n",
    "\n",
    "result2 = num4 - num3\n",
    "print(result2)\n",
    "\n",
    "result2 -= 2\n",
    "print(result2)"
   ]
  },
  {
   "cell_type": "markdown",
   "metadata": {},
   "source": [
    "##### Multiplication"
   ]
  },
  {
   "cell_type": "code",
   "execution_count": 12,
   "metadata": {},
   "outputs": [
    {
     "name": "stdout",
     "output_type": "stream",
     "text": [
      "47.0\n",
      "47.0\n",
      "94.0\n",
      "188.0\n"
     ]
    }
   ],
   "source": [
    "num1 = 10\n",
    "num2 = 4.7\n",
    "product = num1 * num2\n",
    "print(product)\n",
    "\n",
    "print(num1 * num2)\n",
    "\n",
    "product *=2\n",
    "print(product)\n",
    "\n",
    "product = product * 2  #Does the same thing as line 7, setting the current variable equal the current value * 2\n",
    "print(product)"
   ]
  },
  {
   "cell_type": "markdown",
   "metadata": {},
   "source": [
    "##### Division"
   ]
  },
  {
   "cell_type": "code",
   "execution_count": 13,
   "metadata": {},
   "outputs": [
    {
     "name": "stdout",
     "output_type": "stream",
     "text": [
      "5.0\n",
      "5.0\n",
      "5\n",
      "1.0\n"
     ]
    }
   ],
   "source": [
    "num1 = 45\n",
    "num2 = 9\n",
    "\n",
    "quotient = num1 / num2 \n",
    "print(quotient)\n",
    "\n",
    "print(num1 / num2)\n",
    "\n",
    "quotient = int(quotient)\n",
    "print(quotient)\n",
    "\n",
    "quotient /= 5\n",
    "print(quotient)"
   ]
  },
  {
   "cell_type": "markdown",
   "metadata": {},
   "source": [
    "##### Floor Division"
   ]
  },
  {
   "cell_type": "code",
   "execution_count": 14,
   "metadata": {},
   "outputs": [
    {
     "name": "stdout",
     "output_type": "stream",
     "text": [
      "2.5\n",
      "2\n"
     ]
    }
   ],
   "source": [
    "#Floor division is a division operation that rounds the result 'DOWN' to the nearest whole number or integer,\n",
    "#which is less than or equal to the normal division result.\n",
    "num1 = 5\n",
    "num2 = 2\n",
    "print(num1/num2)\n",
    "\n",
    "print(num1 // num2)"
   ]
  },
  {
   "cell_type": "markdown",
   "metadata": {},
   "source": [
    "##### Modulo"
   ]
  },
  {
   "cell_type": "code",
   "execution_count": 15,
   "metadata": {},
   "outputs": [
    {
     "name": "stdout",
     "output_type": "stream",
     "text": [
      "2\n",
      "It's odd\n"
     ]
    }
   ],
   "source": [
    "# return a remainder between two numbers\n",
    "num = 7\n",
    "num2 = 5\n",
    "\n",
    "# An example of how % will typicaly be used:\n",
    "new_num = num % num2\n",
    "print(new_num)\n",
    "\n",
    "if num % 2 ==0:\n",
    "    print(\"It's even\")\n",
    "else:\n",
    "    print(\"It's odd\")"
   ]
  },
  {
   "cell_type": "markdown",
   "metadata": {},
   "source": [
    "##### Exponential"
   ]
  },
  {
   "cell_type": "code",
   "execution_count": 16,
   "metadata": {},
   "outputs": [
    {
     "ename": "SyntaxError",
     "evalue": "invalid syntax (660046276.py, line 3)",
     "output_type": "error",
     "traceback": [
      "\u001b[0;36m  Cell \u001b[0;32mIn[16], line 3\u001b[0;36m\u001b[0m\n\u001b[0;31m    square ** = 2\u001b[0m\n\u001b[0m              ^\u001b[0m\n\u001b[0;31mSyntaxError\u001b[0m\u001b[0;31m:\u001b[0m invalid syntax\n"
     ]
    }
   ],
   "source": [
    "print(square)\n",
    "\n",
    "square ** = 2\n",
    "print(square)\n",
    "\n",
    "cubed = 3 * 3\n",
    "print(cubed)"
   ]
  },
  {
   "cell_type": "code",
   "execution_count": null,
   "metadata": {},
   "outputs": [],
   "source": []
  },
  {
   "cell_type": "markdown",
   "metadata": {},
   "source": [
    "### String Input-Output"
   ]
  },
  {
   "cell_type": "markdown",
   "metadata": {},
   "source": [
    "##### String Assignment"
   ]
  },
  {
   "cell_type": "code",
   "execution_count": 18,
   "metadata": {},
   "outputs": [],
   "source": [
    "name = \"Ryan\"\n",
    "\n",
    "# empty string\n",
    "new_string = \"\"\n",
    "\n",
    "# \"double\" and 'single' quotes work here\n",
    "another_name = 'Charmander'"
   ]
  },
  {
   "cell_type": "markdown",
   "metadata": {},
   "source": [
    "##### print() <br>\n",
    "<p>Don't forget about end=' '</p>"
   ]
  },
  {
   "cell_type": "code",
   "execution_count": 19,
   "metadata": {},
   "outputs": [
    {
     "name": "stdout",
     "output_type": "stream",
     "text": [
      "Ryan\n",
      "Ryan Charmander 1 2 Hello\n",
      "Ryan/Charmander/1/2/Hello\n",
      "Ryan***Charmander***1***2***Hello&&&"
     ]
    }
   ],
   "source": [
    "#help(print)\n",
    "print(name)\n",
    "\n",
    "print(name, another_name, 1, 2, \"Hello\")\n",
    "\n",
    "print(name, another_name, 1, 2, \"Hello\", sep = '/')\n",
    "\n",
    "#         Things that get printed        separation   ending the line\n",
    "print(name, another_name, 1, 2, \"Hello\", sep = '***', end = \"&&&\")"
   ]
  },
  {
   "cell_type": "markdown",
   "metadata": {},
   "source": [
    "##### String Concatenation"
   ]
  },
  {
   "cell_type": "code",
   "execution_count": 20,
   "metadata": {},
   "outputs": [
    {
     "name": "stdout",
     "output_type": "stream",
     "text": [
      "LukeSkywalker\n",
      "Luke Skywalker\n",
      "Luke Skywalker\n",
      "Luke Skywalker Jedi Master\n"
     ]
    }
   ],
   "source": [
    "# a string is immutable which means it cannot be altered in anyway\n",
    "first_name = 'Luke'\n",
    "last_name = 'Skywalker'\n",
    "full_name = first_name + last_name\n",
    "print(full_name)\n",
    "\n",
    "first_name = 'Luke ' # add space to create separation\n",
    "last_name = 'Skywalker'\n",
    "full_name = first_name + last_name\n",
    "print(full_name)\n",
    "\n",
    "first_name = 'Luke'\n",
    "last_name = 'Skywalker'\n",
    "full_name = first_name + ' ' + last_name # build space into the concatenation\n",
    "print(full_name)\n",
    "\n",
    "full_name += ' ' + 'Jedi Master' # full_name variable reasigned by new name printed\n",
    "print(full_name)"
   ]
  },
  {
   "cell_type": "markdown",
   "metadata": {},
   "source": [
    "##### Type Conversion"
   ]
  },
  {
   "cell_type": "code",
   "execution_count": 21,
   "metadata": {},
   "outputs": [
    {
     "name": "stdout",
     "output_type": "stream",
     "text": [
      "<class 'str'>\n",
      "<class 'int'>\n",
      "<class 'str'>\n",
      "<class 'str'>\n"
     ]
    }
   ],
   "source": [
    "# int(), float(), str(), examples of built in function\n",
    "# int() convert type into integer type\n",
    "# float() converts to float type \n",
    "# str() converts to string type\n",
    "# not every string can be made into a float or integer but every integer or float can be made into a string\n",
    "\n",
    "string_num = '5'\n",
    "print(type(string_num))\n",
    "\n",
    "int_num = int(string_num)\n",
    "print(type(int_num))\n",
    "\n",
    "my_name = 'Ryan'\n",
    "\n",
    "#name_int = int(my_name) # This example will not work Ryan is not an integer\n",
    "#print(name_int)\n",
    "\n",
    "my_num = 10\n",
    "my_float = 15.7\n",
    "\n",
    "my_string_num = str(my_num)\n",
    "print(type(my_string_num))\n",
    "\n",
    "my_string_float = str(my_float)\n",
    "print(type(my_string_float))"
   ]
  },
  {
   "cell_type": "markdown",
   "metadata": {},
   "source": [
    "##### input()"
   ]
  },
  {
   "cell_type": "code",
   "execution_count": 22,
   "metadata": {},
   "outputs": [
    {
     "name": "stdout",
     "output_type": "stream",
     "text": [
      "How much does a pack of Pokemon cards cost?4.99\n",
      "<class 'str'>\n"
     ]
    }
   ],
   "source": [
    "amount = input('How much does a pack of Pokemon cards cost?')\n",
    "print(type(amount))"
   ]
  },
  {
   "cell_type": "code",
   "execution_count": 23,
   "metadata": {},
   "outputs": [
    {
     "name": "stdout",
     "output_type": "stream",
     "text": [
      "How much does a pack of Pokemon cards cost?4.99\n",
      "19.96\n"
     ]
    }
   ],
   "source": [
    "amount = float(input('How much does a pack of Pokemon cards cost?'))\n",
    "total = amount * 4\n",
    "print(total)"
   ]
  },
  {
   "cell_type": "code",
   "execution_count": 24,
   "metadata": {},
   "outputs": [
    {
     "name": "stdout",
     "output_type": "stream",
     "text": [
      "What is your name? Liz\n",
      "Your name is, Liz\n",
      "What is your quest? I seek the Holy Grail!\n",
      "Your quest is, I seek the Holy Grail!\n",
      "What is your favorite color? Purple\n",
      "Your favorite color is, Purple\n"
     ]
    }
   ],
   "source": [
    "# input will always return a string type forever and ever and ever and ever\n",
    "name = input('What is your name? ')\n",
    "print('Your name is,', name)\n",
    "\n",
    "quest = input('What is your quest? ')\n",
    "print('Your quest is,', quest)\n",
    "      \n",
    "color = input('What is your favorite color? ')\n",
    "print('Your favorite color is,', color)"
   ]
  },
  {
   "cell_type": "code",
   "execution_count": 25,
   "metadata": {},
   "outputs": [
    {
     "name": "stdout",
     "output_type": "stream",
     "text": [
      "How old are you? 40\n",
      "You are 40 years old\n",
      "Happy Birthday! You are now 41\n"
     ]
    }
   ],
   "source": [
    "age = int(input('How old are you? '))\n",
    "print('You are', age, 'years old')\n",
    "\n",
    "age += 1\n",
    "print('Happy Birthday! You are now', age)"
   ]
  },
  {
   "cell_type": "markdown",
   "metadata": {},
   "source": [
    "##### format()"
   ]
  },
  {
   "cell_type": "code",
   "execution_count": 26,
   "metadata": {},
   "outputs": [
    {
     "name": "stdout",
     "output_type": "stream",
     "text": [
      "Who is your favorite pokemon? Squirtle\n",
      "Squirtle is really cool!\n"
     ]
    }
   ],
   "source": [
    "# fstring\n",
    "# f\"\"\n",
    "pokemon = input(\"Who is your favorite pokemon? \")\n",
    "print(f\"{pokemon} is really cool!\")"
   ]
  },
  {
   "cell_type": "code",
   "execution_count": 28,
   "metadata": {},
   "outputs": [
    {
     "name": "stdout",
     "output_type": "stream",
     "text": [
      "how old are you? 40\n",
      "What is your name. Liz\n",
      "You are 40 years old Liz and you are getting wiser!\n"
     ]
    }
   ],
   "source": [
    "age = int(input(\"how old are you? \"))\n",
    "name = input(\"What is your name. \")\n",
    "\n",
    "result_string = \"You are {} years old {} and you are getting wiser!\".format(age, name)\n",
    "print(result_string)"
   ]
  },
  {
   "cell_type": "raw",
   "metadata": {},
   "source": [
    "age = int(input(\"How old are you? \"))\n",
    "name = input(\"What is your name? \")\n",
    "\n",
    "result_string = \"you are {} years old, {} and you are getting wiser!\".format(age, name)\n",
    "print(result_string)"
   ]
  },
  {
   "cell_type": "markdown",
   "metadata": {},
   "source": [
    "##### Old Way (python 2)"
   ]
  },
  {
   "cell_type": "code",
   "execution_count": null,
   "metadata": {},
   "outputs": [],
   "source": [
    "result_string2 = \"You are %s and you look great for your age!\" %age\n",
    "print(result_string2)"
   ]
  },
  {
   "cell_type": "markdown",
   "metadata": {},
   "source": [
    "# In-Class Exercise 1 <br>\n",
    "<p>Create a formatted statement that asks for a car's color, year, make, model and prints out the results</p>"
   ]
  },
  {
   "cell_type": "code",
   "execution_count": 29,
   "metadata": {},
   "outputs": [
    {
     "name": "stdout",
     "output_type": "stream",
     "text": [
      "What color is your car? Silver\n",
      "What year is it? 2013\n",
      "What is the make? Nissan\n",
      "What is the model? Sentra\n",
      "Your 2013 , Nissan , Sentra , in Silver is a sharp looking car!\n"
     ]
    }
   ],
   "source": [
    "color = input('What color is your car? ')\n",
    "year = input('What year is it? ')\n",
    "make = input('What is the make? ')\n",
    "model = input('What is the model? ')\n",
    "car_details = f\"Your {year} , {make} , {model} , in {color} is a sharp looking car!\"\n",
    "print(car_details)"
   ]
  },
  {
   "cell_type": "markdown",
   "metadata": {},
   "source": [
    "### If Statements"
   ]
  },
  {
   "cell_type": "code",
   "execution_count": 30,
   "metadata": {},
   "outputs": [
    {
     "name": "stdout",
     "output_type": "stream",
     "text": [
      "False\n",
      "True\n",
      "True\n"
     ]
    }
   ],
   "source": [
    "#if statements commonly reffered to as conditionals\n",
    "\n",
    "# Less than < Greater than >, Equal to ==, Not Equal !=\n",
    "#Less than or Equal to <=, Greater than or Equal to >=\n",
    "\n",
    "# TRUTH TREE\n",
    "# T and F = F\n",
    "# T and T = T\n",
    "# T or F = T\n",
    "# F or T = T\n",
    "# F or F = F\n",
    "\n",
    "num1=6\n",
    "num2=65\n",
    "\n",
    "# if\n",
    "# elif\n",
    "# else\n",
    "\n",
    "if num2 ==num1:\n",
    "    print(True)\n",
    "else:\n",
    "    print(False)\n",
    "    \n",
    "if num1 > 5 and num2 < 100:\n",
    "    print(True)\n",
    "else:\n",
    "    print(False)\n",
    "    \n",
    "if num1 == 5 or num2 >50:\n",
    "    print(True)\n",
    "else:\n",
    "    print(False)"
   ]
  },
  {
   "cell_type": "markdown",
   "metadata": {},
   "source": [
    "##### 'is' keyword"
   ]
  },
  {
   "cell_type": "code",
   "execution_count": 41,
   "metadata": {
    "scrolled": true
   },
   "outputs": [
    {
     "name": "stdout",
     "output_type": "stream",
     "text": [
      "That'll do it\n",
      "Yes\n"
     ]
    }
   ],
   "source": [
    "# use is keyword for checking same/similar objects (location) not same value\n",
    "\n",
    "num3 = 90\n",
    "\n",
    "if num3 == 90:\n",
    "    print(\"That'll do it\")\n",
    "    \n",
    "num4 = num3\n",
    "\n",
    "if num4 is num3:\n",
    "    print(\"Yes\")"
   ]
  },
  {
   "cell_type": "markdown",
   "metadata": {},
   "source": [
    "##### 'in' keyword"
   ]
  },
  {
   "cell_type": "code",
   "execution_count": 49,
   "metadata": {},
   "outputs": [
    {
     "name": "stdout",
     "output_type": "stream",
     "text": [
      "Excellent\n",
      "Excellent\n",
      "UUUUUUUULTIMATE POWERRRRRRRRR!\n"
     ]
    }
   ],
   "source": [
    "# membership check to see if a value is inside of something else (usually an iterable)\n",
    "# interable is something something we can iterate through and check each character or value\n",
    "char_name = \"Boba Fett\"\n",
    "if \"b\" in char_name:\n",
    "    print(\"Excellent\")\n",
    "else:\n",
    "    print(\"No B's here\")\n",
    "    \n",
    "char_name = \"BOBA Fett\"   \n",
    "if \"b\" in char_name.lower(): # .lower ----- makes all items in string lower case\n",
    "    print(\"Excellent\")\n",
    "else:\n",
    "    print(\"No B's here\")\n",
    "    \n",
    "if \"f\" in \"Mace windu\":\n",
    "    print(\"We do not grant you the rank of master.\")\n",
    "else:\n",
    "    print(\"UUUUUUUULTIMATE POWERRRRRRRRR!\")"
   ]
  },
  {
   "cell_type": "markdown",
   "metadata": {},
   "source": [
    "##### 'not in' keyword'"
   ]
  },
  {
   "cell_type": "code",
   "execution_count": 50,
   "metadata": {},
   "outputs": [
    {
     "name": "stdout",
     "output_type": "stream",
     "text": [
      "Argh\n"
     ]
    }
   ],
   "source": [
    "name = \"Mega Man\"\n",
    "if \"r\" not in name:\n",
    "    print(\"Argh\")\n",
    "else:\n",
    "    print(\"Radical\")"
   ]
  },
  {
   "cell_type": "markdown",
   "metadata": {},
   "source": [
    "# In-Class Exercise 2 <br>\n",
    "<p>Ask user for input, check to see if the letter 'p' is in the input</p>\n",
    "<p>Check for case sensitivity</p>\n"
   ]
  },
  {
   "cell_type": "code",
   "execution_count": 57,
   "metadata": {},
   "outputs": [
    {
     "name": "stdout",
     "output_type": "stream",
     "text": [
      "What is your home's street name?Avers\n",
      "Best Neighborhood Street!\n"
     ]
    }
   ],
   "source": [
    "Street_name = input(\"What is your home's street name?\")\n",
    "\n",
    "if \"p\" in Street_name:\n",
    "    print(\"That street is alright!\")\n",
    "else:\n",
    "    print(\"Best Neighborhood Street!\")"
   ]
  },
  {
   "cell_type": "markdown",
   "metadata": {},
   "source": [
    "## Using 'and'/'or' with If Statements"
   ]
  },
  {
   "cell_type": "code",
   "execution_count": 59,
   "metadata": {},
   "outputs": [
    {
     "name": "stdout",
     "output_type": "stream",
     "text": [
      "False\n",
      "True\n",
      "True\n"
     ]
    }
   ],
   "source": [
    "# TRUTH TREE\n",
    "# T and F = F\n",
    "# T and T = T\n",
    "# T or F = T\n",
    "# F or T = T\n",
    "# F or F = F\n",
    "\n",
    "num1 = 6\n",
    "num2 = 65\n",
    "\n",
    "if num2 ==num1:\n",
    "    print(True)\n",
    "else:\n",
    "    print(False)\n",
    "    \n",
    "if num1 > 5 and num2 < 100:\n",
    "    print(True)\n",
    "else:\n",
    "    print(False)\n",
    "    \n",
    "if num1 == 5 or num2 >50:\n",
    "    print(True)\n",
    "else:\n",
    "    print(False)"
   ]
  },
  {
   "cell_type": "markdown",
   "metadata": {},
   "source": [
    "### Elif Statements"
   ]
  },
  {
   "cell_type": "code",
   "execution_count": 35,
   "metadata": {},
   "outputs": [
    {
     "name": "stdout",
     "output_type": "stream",
     "text": [
      "What is your name? Legolas\n",
      "They're taking the hobbits to Isengard\n"
     ]
    }
   ],
   "source": [
    "# if condition1\n",
    "# elif condition2\n",
    "# elif condition3\n",
    "# elif condition4\n",
    "# else \n",
    "\n",
    "name = input(\"What is your name? \")\n",
    "if name==\"Legolas\":\n",
    "    print(\"They're taking the hobbits to Isengard\")\n",
    "elif name==\"Gimli\":\n",
    "    print(\"I cannot make the jump, you have to toss me.\")\n",
    "elif name ==\"Aragorn\":\n",
    "    print(\"My friends, you bow to no one.\")\n",
    "else:\n",
    "    print(\"When is second breakfast!?\")"
   ]
  },
  {
   "cell_type": "markdown",
   "metadata": {},
   "source": [
    "### Else Statements"
   ]
  },
  {
   "cell_type": "code",
   "execution_count": 36,
   "metadata": {},
   "outputs": [
    {
     "name": "stdout",
     "output_type": "stream",
     "text": [
      "What is your name? Liz\n",
      "When is second breakfast!?\n"
     ]
    }
   ],
   "source": [
    "# this covers any situation not covered by the ifs and elifs\n",
    "# if none of the above conditions are met, the else will be hit\n",
    "\n",
    "name = input(\"What is your name? \")\n",
    "if name==\"Legolas\":\n",
    "    print(\"They're taking the hobbits to Isengard\")\n",
    "elif name==\"Gimli\":\n",
    "    print(\"I cannot make the jump, you have to toss me.\")\n",
    "elif name ==\"Aragorn\":\n",
    "    print(\"My friends, you bow to no one.\")\n",
    "elif name ==\"Gandalf\":\n",
    "    print(\"Fool of a Took!\")\n",
    "elif name ==\"Sam\":\n",
    "    print(\"I can't carry it for you, but I can carry you.\")\n",
    "elif name ==\"Goblin\":\n",
    "    print(\"Reeeeeeeeeeeeeee\")\n",
    "else:\n",
    "    print(\"When is second breakfast!?\") # if none of the above are met, the else gets triggered"
   ]
  },
  {
   "cell_type": "markdown",
   "metadata": {},
   "source": [
    "### String Manipulation"
   ]
  },
  {
   "cell_type": "markdown",
   "metadata": {},
   "source": [
    "#### .lstrip()"
   ]
  },
  {
   "cell_type": "code",
   "execution_count": 61,
   "metadata": {},
   "outputs": [
    {
     "name": "stdout",
     "output_type": "stream",
     "text": [
      "      Orlando Bloom\n",
      "Orlando Bloom\n"
     ]
    }
   ],
   "source": [
    "# string.lstrip()\n",
    "# removes whitespace from left side of string\n",
    "name = \"      Orlando Bloom\"\n",
    "print(name)\n",
    "print(name.lstrip())"
   ]
  },
  {
   "cell_type": "markdown",
   "metadata": {},
   "source": [
    "#### .rstrip()"
   ]
  },
  {
   "cell_type": "code",
   "execution_count": 67,
   "metadata": {},
   "outputs": [
    {
     "name": "stdout",
     "output_type": "stream",
     "text": [
      "Legolas Greenleaf           \n",
      "Legolas Greenleaf\n"
     ]
    }
   ],
   "source": [
    "# string.rstrip()\n",
    "# removes whitespace from right side of string\n",
    "name = \"Legolas Greenleaf           \"\n",
    "print(name)\n",
    "\n",
    "print(name.rstrip())"
   ]
  },
  {
   "cell_type": "markdown",
   "metadata": {},
   "source": [
    "#### .strip()"
   ]
  },
  {
   "cell_type": "code",
   "execution_count": 66,
   "metadata": {},
   "outputs": [
    {
     "name": "stdout",
     "output_type": "stream",
     "text": [
      "    Cookie Monster    \n",
      "Cookie Monster\n"
     ]
    }
   ],
   "source": [
    "# string.strip()\n",
    "# remove whitespace from all sides\n",
    "name = \"    Cookie Monster    \"\n",
    "print(name)\n",
    "\n",
    "print(name.strip())"
   ]
  },
  {
   "cell_type": "code",
   "execution_count": 69,
   "metadata": {},
   "outputs": [
    {
     "name": "stdout",
     "output_type": "stream",
     "text": [
      "Blues Clues\n",
      "Blues Clues\n"
     ]
    }
   ],
   "source": [
    "name = \"Blues Clues,\"\n",
    "print(name.strip(\",\"))\n",
    "\n",
    "name = \",,,,,,,Blues Clues,\"\n",
    "print(name.strip(\",\"))"
   ]
  },
  {
   "cell_type": "code",
   "execution_count": 75,
   "metadata": {},
   "outputs": [
    {
     "name": "stdout",
     "output_type": "stream",
     "text": [
      "Booooooo!\n",
      "Booooooo!\n"
     ]
    }
   ],
   "source": [
    "var1 = \"somehting\"\n",
    "var2 = \"something \" # trailing space at end does not make it equal\n",
    "if var1 == var2:\n",
    "\n",
    "    print(\"Siiiiiick!\")\n",
    "else:\n",
    "    print(\"Booooooo!\")\n",
    "        \n",
    "var2 = var2.strip()\n",
    "if var1 == var2:\n",
    "    print(\"Siiiiiick!\")\n",
    "else:\n",
    "    print(\"Booooooo!\")"
   ]
  },
  {
   "cell_type": "markdown",
   "metadata": {},
   "source": [
    "#### .title()"
   ]
  },
  {
   "cell_type": "code",
   "execution_count": 76,
   "metadata": {},
   "outputs": [
    {
     "name": "stdout",
     "output_type": "stream",
     "text": [
      "Goofy Goober\n"
     ]
    }
   ],
   "source": [
    "# string.title()\n",
    "name = \"goofy goober\"\n",
    "print(name.title())"
   ]
  },
  {
   "cell_type": "markdown",
   "metadata": {},
   "source": [
    "#### .upper()"
   ]
  },
  {
   "cell_type": "code",
   "execution_count": 78,
   "metadata": {},
   "outputs": [
    {
     "name": "stdout",
     "output_type": "stream",
     "text": [
      "BIG BIRD\n"
     ]
    }
   ],
   "source": [
    "name = \"Big Bird\"\n",
    "print(name.upper())"
   ]
  },
  {
   "cell_type": "markdown",
   "metadata": {},
   "source": [
    "#### .lower()"
   ]
  },
  {
   "cell_type": "code",
   "execution_count": 79,
   "metadata": {
    "scrolled": true
   },
   "outputs": [
    {
     "name": "stdout",
     "output_type": "stream",
     "text": [
      "little foot\n"
     ]
    }
   ],
   "source": [
    "name = \"Little Foot\"\n",
    "print(name.lower())"
   ]
  },
  {
   "cell_type": "markdown",
   "metadata": {},
   "source": [
    "### String Exercise"
   ]
  },
  {
   "cell_type": "markdown",
   "metadata": {},
   "source": [
    "Have a user input a sentence. Return the name with all white space removed and each first letter capitalized."
   ]
  },
  {
   "cell_type": "code",
   "execution_count": 81,
   "metadata": {},
   "outputs": [
    {
     "name": "stdout",
     "output_type": "stream",
     "text": [
      "Give me a sentence     when I was a young boy, my father took me into the city to see a marching band.     \n",
      "When I Was A Young Boy, My Father Took Me Into The City To See A Marching Band.\n"
     ]
    }
   ],
   "source": [
    "sentence = input(\"Give me a sentence\")\n",
    "print(sentence.strip().title())"
   ]
  },
  {
   "cell_type": "markdown",
   "metadata": {},
   "source": [
    "### Built-In Functions"
   ]
  },
  {
   "cell_type": "markdown",
   "metadata": {},
   "source": [
    "##### len()"
   ]
  },
  {
   "cell_type": "code",
   "execution_count": 84,
   "metadata": {},
   "outputs": [
    {
     "name": "stdout",
     "output_type": "stream",
     "text": [
      "3\n",
      "12\n"
     ]
    }
   ],
   "source": [
    "# works for strings and lists\n",
    "# return the lenght of a given variable as an integer\n",
    "# _len_ attribute of an iterable\n",
    "name = \"Max\"\n",
    "lenght_of_name = len(name)\n",
    "print(lenght_of_name)\n",
    "\n",
    "name = \"   Mad Max  \"          # counts all whitespace too\n",
    "lenght_of_name = len(name)\n",
    "print(lenght_of_name)"
   ]
  },
  {
   "cell_type": "markdown",
   "metadata": {},
   "source": [
    "##### help()"
   ]
  },
  {
   "cell_type": "code",
   "execution_count": 86,
   "metadata": {},
   "outputs": [
    {
     "name": "stdout",
     "output_type": "stream",
     "text": [
      "Help on built-in function len in module builtins:\n",
      "\n",
      "len(obj, /)\n",
      "    Return the number of items in a container.\n",
      "\n",
      "Help on built-in function print in module builtins:\n",
      "\n",
      "print(*args, sep=' ', end='\\n', file=None, flush=False)\n",
      "    Prints the values to a stream, or to sys.stdout by default.\n",
      "    \n",
      "    sep\n",
      "      string inserted between values, default a space.\n",
      "    end\n",
      "      string appended after the last value, default a newline.\n",
      "    file\n",
      "      a file-like object (stream); defaults to the current sys.stdout.\n",
      "    flush\n",
      "      whether to forcibly flush the stream.\n",
      "\n"
     ]
    }
   ],
   "source": [
    "# gives a tooltip on a python built-in function\n",
    "help(len)\n",
    "help(print)"
   ]
  },
  {
   "cell_type": "markdown",
   "metadata": {},
   "source": [
    "##### isinstance()"
   ]
  },
  {
   "cell_type": "code",
   "execution_count": 88,
   "metadata": {},
   "outputs": [
    {
     "name": "stdout",
     "output_type": "stream",
     "text": [
      "False\n",
      "We all float down here.\n"
     ]
    }
   ],
   "source": [
    "# check a variable/value to find out what Object Family (data type) it belongs to\n",
    "# isinstance(value, type)\n",
    "\n",
    "print(isinstance(4.5, int))\n",
    "\n",
    "if isinstance(4.5, float):\n",
    "    print(\"We all float down here.\")\n",
    "else:\n",
    "    print(\"That does not float\")"
   ]
  },
  {
   "cell_type": "markdown",
   "metadata": {},
   "source": [
    "##### abs()"
   ]
  },
  {
   "cell_type": "code",
   "execution_count": 92,
   "metadata": {},
   "outputs": [
    {
     "name": "stdout",
     "output_type": "stream",
     "text": [
      "5\n",
      "100\n",
      "100\n"
     ]
    }
   ],
   "source": [
    "# | 5 |\n",
    "# give us the distance to zero\n",
    "# always returns a POSITIVE number\n",
    "\n",
    "print(abs(-5))\n",
    "\n",
    "print(abs(-100))\n",
    "\n",
    "print(abs(100))"
   ]
  },
  {
   "cell_type": "markdown",
   "metadata": {},
   "source": [
    "### Try and Except"
   ]
  },
  {
   "cell_type": "code",
   "execution_count": 93,
   "metadata": {},
   "outputs": [
    {
     "name": "stdout",
     "output_type": "stream",
     "text": [
      "How old are you? 39\n",
      "Happy Birthday! You were 39 and now you are 40\n"
     ]
    }
   ],
   "source": [
    "# use this whenever you expect encounter a bug so that the error doesn't cause the program to stop\n",
    "# logging graceful error messages to gently nudge the user in the right direction\n",
    "\n",
    "age = int(input(\"How old are you? \"))\n",
    "print(f\"Happy Birthday! You were {age} and now you are {age + 1}\")"
   ]
  },
  {
   "cell_type": "code",
   "execution_count": 96,
   "metadata": {},
   "outputs": [
    {
     "name": "stdout",
     "output_type": "stream",
     "text": [
      "How old are you? eight\n",
      "Please enter numbers not letters. Please try again.\n"
     ]
    }
   ],
   "source": [
    "try:\n",
    "    age = int(input(\"How old are you? \"))\n",
    "    print(f\"Happy Birthday! You were {age} and now you are {age + 1}.\")\n",
    "except:\n",
    "    print(\"Please enter numbers not letters. Please try again.\")"
   ]
  },
  {
   "cell_type": "markdown",
   "metadata": {},
   "source": [
    "## Exercise #1 <br>\n",
    "<p>Accept two user ages as inputs and give us the difference between them. (The Answer should always be a positive output)</p>"
   ]
  },
  {
   "cell_type": "code",
   "execution_count": 31,
   "metadata": {},
   "outputs": [
    {
     "name": "stdout",
     "output_type": "stream",
     "text": [
      "67\n"
     ]
    }
   ],
   "source": [
    "user1 = 40\n",
    "user2 = 27\n",
    "\n",
    "print(user1 + user2)"
   ]
  },
  {
   "cell_type": "markdown",
   "metadata": {},
   "source": [
    "## Exercise #2 \n",
    "<p>Accept 3 user inputs for variables named noun, verb and adjective. Print out a formatted string using the outputs.</p>"
   ]
  },
  {
   "cell_type": "code",
   "execution_count": 32,
   "metadata": {},
   "outputs": [
    {
     "name": "stdout",
     "output_type": "stream",
     "text": [
      "park ran fun \n"
     ]
    }
   ],
   "source": [
    "noun = \"park \"\n",
    "verb = \"ran \"\n",
    "adjective = \"fun \"\n",
    "\n",
    "speech_parts = noun  + verb  + adjective\n",
    "print(speech_parts)"
   ]
  },
  {
   "cell_type": "markdown",
   "metadata": {},
   "source": [
    "## Exercise #3 <br>\n",
    "<p>Take in a users input for their age, if they are younger than 18 print kids, if they're 18 to 65 print adults, else print seniors</p>"
   ]
  },
  {
   "cell_type": "code",
   "execution_count": 52,
   "metadata": {},
   "outputs": [
    {
     "name": "stdout",
     "output_type": "stream",
     "text": [
      "What is your age?40\n",
      "Adult\n"
     ]
    }
   ],
   "source": [
    "age = int(input('What is your age?'))\n",
    "if age < 18:\n",
    "    print('Kid')\n",
    "elif age < 66:\n",
    "    print('Adult')\n",
    "else:\n",
    "    print('Senior')\n",
    "    "
   ]
  },
  {
   "cell_type": "markdown",
   "metadata": {},
   "source": [
    "## Exercise #4\n",
    "<p>Take in a number from a user input, output the number squared.</p>"
   ]
  },
  {
   "cell_type": "code",
   "execution_count": 34,
   "metadata": {},
   "outputs": [
    {
     "name": "stdout",
     "output_type": "stream",
     "text": [
      "64\n"
     ]
    }
   ],
   "source": [
    "square = 8 ** 2\n",
    "print(square)"
   ]
  },
  {
   "cell_type": "markdown",
   "metadata": {},
   "source": [
    "## Exercise #5\n",
    "<p>Check the below variables' length. If the length of the word is greater than 5 output True, if it is less than 5, output False<p>\n"
   ]
  },
  {
   "cell_type": "code",
   "execution_count": 106,
   "metadata": {},
   "outputs": [
    {
     "name": "stdout",
     "output_type": "stream",
     "text": [
      "6\n",
      "True\n",
      "3\n",
      "False\n"
     ]
    }
   ],
   "source": [
    "word1 = \"panini\"\n",
    "word2 = \"bulbasaur\"\n",
    "word3 = \"pie\"\n",
    "word4 = \"dolphin\"\n",
    "word5 = \"dog\"\n",
    "\n",
    "word1 = \"panini\"\n",
    "word1 = len(word1)\n",
    "print(word1)\n",
    "if word1 > 5:\n",
    "    print(True)\n",
    "else:\n",
    "    print(False)\n",
    "    \n",
    "word5 = \"dog\"\n",
    "word5 = len(word5)\n",
    "print(word5)\n",
    "if word5 > 5:\n",
    "    print(True)\n",
    "else:\n",
    "    print(False)"
   ]
  }
 ],
 "metadata": {
  "kernelspec": {
   "display_name": "Python 3 (ipykernel)",
   "language": "python",
   "name": "python3"
  },
  "language_info": {
   "codemirror_mode": {
    "name": "ipython",
    "version": 3
   },
   "file_extension": ".py",
   "mimetype": "text/x-python",
   "name": "python",
   "nbconvert_exporter": "python",
   "pygments_lexer": "ipython3",
   "version": "3.11.4"
  }
 },
 "nbformat": 4,
 "nbformat_minor": 2
}
